{
 "cells": [
  {
   "cell_type": "code",
   "execution_count": 1,
   "id": "5320178a",
   "metadata": {},
   "outputs": [
    {
     "name": "stdout",
     "output_type": "stream",
     "text": [
      "ASUS6z                        |  fwj4rut4a9hsumw\n",
      "Sinhgad-Open-WiFi             |  \n",
      "Redmi Note 11T 5G             |  01234567\n",
      "Redmi Note 9 Pro max          |  parkjungkyu\n",
      "OppoF15                       |  Janhavee\n",
      "Patil_Ftth                    |  Adventure@2020\n",
      "POCO M2 Pro                   |  qwertyuiop\n",
      "Redmi Note 8                  |  12345678\n",
      "Galaxy                        |  vaishnavi\n",
      "Redmi Note 9 Pro              |  \n",
      "Redmi  note 8                 |  \n",
      "Redmi Note 9 Pro Max          |  parkjungkyu\n",
      "Galaxy M51F926                |  kpaj0213\n",
      "realme Narzo 20               |  01234567\n",
      "Airtel-My WIFI-BMF422-CB4B    |  5258ce2f\n",
      "Galaxy M31s                   |  bsge5965\n",
      "Realme                        |  pbb@12345\n",
      "Patil                         |  Adventure@2020\n"
     ]
    }
   ],
   "source": [
    "import subprocess\n",
    "\n",
    "data = (\n",
    "    subprocess.check_output([\"netsh\", \"wlan\", \"show\", \"profiles\"])\n",
    "    .decode(\"utf-8\")\n",
    "    .split(\"\\n\")\n",
    ")\n",
    "profiles = [i.split(\":\")[1][1:-1] for i in data if \"All User Profile\" in i]\n",
    "for i in profiles:\n",
    "    results = (\n",
    "        subprocess\n",
    "        .check_output([\"netsh\", \"wlan\", \"show\", \"profile\", i, \"key=clear\"])\n",
    "        .decode(\"utf-8\")\n",
    "        .split(\"\\n\")\n",
    "    )\n",
    "    results = [b.split(\":\")[1][1:-1] for b in results if \"Key Content\" in b]\n",
    "    try:\n",
    "        print(\"{:<30}|  {:<}\".format(i, results[0]))\n",
    "    except IndexError:\n",
    "        print(\"{:<30}|  {:<}\".format(i, \"\"))"
   ]
  },
  {
   "cell_type": "code",
   "execution_count": null,
   "id": "76e49a46",
   "metadata": {},
   "outputs": [],
   "source": []
  }
 ],
 "metadata": {
  "kernelspec": {
   "display_name": "Python 3 (ipykernel)",
   "language": "python",
   "name": "python3"
  },
  "language_info": {
   "codemirror_mode": {
    "name": "ipython",
    "version": 3
   },
   "file_extension": ".py",
   "mimetype": "text/x-python",
   "name": "python",
   "nbconvert_exporter": "python",
   "pygments_lexer": "ipython3",
   "version": "3.11.3"
  }
 },
 "nbformat": 4,
 "nbformat_minor": 5
}
